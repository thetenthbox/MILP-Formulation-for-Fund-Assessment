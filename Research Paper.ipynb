{
 "cells": [
  {
   "cell_type": "markdown",
   "id": "2a450445-a435-44e9-9645-013049cd464b",
   "metadata": {},
   "source": [
    "# Mixed Integer Linear Programming formulation of multi-period portfolio optimization to simulate outcomes of active fund management"
   ]
  },
  {
   "cell_type": "markdown",
   "id": "a2752383-55b1-49d6-a790-018807900649",
   "metadata": {},
   "source": [
    "Research objectives\n",
    "1. Introduce the broader MILP model to simulate active fund management\n",
    "2. Describe the uses, how the structure of the fund impacts the set of possible return outcomes\n",
    "3. Describe the maxmization and minimization routines and how that results in a set of possible returns\n",
    "4. Exhibit how min/max returns are influenced by fund structural parameters including: max buy in exposure as a percentage of AUM, max positional exposure as a percentage relative to AUM, portfolio turnover, cash constraints, bid/ask spread + commission + trading fees. "
   ]
  }
 ],
 "metadata": {
  "kernelspec": {
   "display_name": "Python 3 (ipykernel)",
   "language": "python",
   "name": "python3"
  },
  "language_info": {
   "codemirror_mode": {
    "name": "ipython",
    "version": 3
   },
   "file_extension": ".py",
   "mimetype": "text/x-python",
   "name": "python",
   "nbconvert_exporter": "python",
   "pygments_lexer": "ipython3",
   "version": "3.10.16"
  }
 },
 "nbformat": 4,
 "nbformat_minor": 5
}
